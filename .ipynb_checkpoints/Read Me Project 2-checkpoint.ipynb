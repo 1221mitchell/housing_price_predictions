{
 "cells": [
  {
   "cell_type": "markdown",
   "metadata": {},
   "source": [
    "SECTION: Guiding questions:"
   ]
  },
  {
   "cell_type": "markdown",
   "metadata": {},
   "source": [
    "\n",
    "Problem Statement:\n",
    "\n",
    "How close can we get to predicting the final sale price of a house in the Ames data set?\n",
    "\n",
    "What features are most important in predicting sale price of a house in the Ames data set?\n",
    "\n",
    "How is neighborhood associated with final sale price of a house in the Ames data set? \n"
   ]
  },
  {
   "cell_type": "markdown",
   "metadata": {},
   "source": [
    "SECTION: Background"
   ]
  },
  {
   "cell_type": "markdown",
   "metadata": {},
   "source": [
    "In this project I am using Aimes housing data to predict sales prices of homes in Aimes, Iowa. I recieved information on 81 features, including sale price, about 2,051 homes in Aimes, Iowa. I created models on this data and used my model to make sale price predictions for houses where I know all the same features except Sale Price. In this project I made 4 different models, one of which is interative and fully adjustble in realtime. My root mean squared error so far on my top model's predictions, when applied to unseen data, is 23082.1507 dollars. This shows that the average magnitude of error on sale price for my best model so far is 23082.1507 dollars. "
   ]
  },
  {
   "cell_type": "code",
   "execution_count": null,
   "metadata": {},
   "outputs": [],
   "source": [
    "SECTION: Methods"
   ]
  },
  {
   "cell_type": "markdown",
   "metadata": {},
   "source": [
    "1. Find null values in numerical columns and replace with the mean value from that column\n",
    "2. Find all column names data type object\n",
    "3. Dummify all columns with data type object\n",
    "4. Sort fetures so that training data has the same features as testing data. Also include Sale Price in testing data\n",
    "5. Set X variable as all columns except Sale Price. Set y variable as Sale Price.\n",
    "6. Run train test split, call linear regression and then fit training data to linear regression \n",
    "7. Check R2 scores, cross valuation scores and most importantly RMSE!\n",
    "8. Now reiterate the model and try to improve scores R2 scores, cross valuation scores and most importantly RMSE\n",
    "9. For the new model, scale the data with a standard scalar, run a regression to find a strong  alpha value, and now fit your model with the lasso \n",
    "10. Check scoring metrics again and then reiterate the model\n",
    "11. Write a function to sort the lowest absolutle value of scaled coeficients for all features\n",
    "12. Drop all features with the smallest coeficients (drop coefieicents with values between -3000 and 3000)\n",
    "13. Assign my new feature engineered data to an X value and then fit with polynomial features\n",
    "14. Check that the shape of your x with polinomial features is shape (w, z) where w>z \n",
    "15. Fit new X and y to a linear regression\n",
    "16. Check scoring metrics again (most importantly RMSE)\n",
    "17. In order to deal with an overfit model, scale the data with a standard scalar, run a regression to find a strong alpha value, and now fit the model with a lasso function\n",
    "18. Reiterate on step 12 and rerun the notebook to find the best features to drop and continue RMSE improving score\n",
    "19. Reiterate on your alpha value search in step 17 to continue to improve the alpha value and improve RMSE score"
   ]
  },
  {
   "cell_type": "code",
   "execution_count": null,
   "metadata": {},
   "outputs": [],
   "source": [
    "CONCLUSIONS AND BREAKDOWN OF CORE IDEAS:"
   ]
  },
  {
   "cell_type": "markdown",
   "metadata": {},
   "source": [
    "As an answer to our first guiding question, my root mean squared error on this model's predictions (so far), when applied to unseen data, is 23,082.1507 dollars. This means that we can expect my model to predict price fairly accurate within 23,082.1507 dollars of a properties actual Sale Price. \n",
    "\n",
    "Below are each of the top 10 correlated features to sale price and their corresponding coeficients from my linear model. This is helpful for showing how much a homeowner or realestate investor can increase the value of a home by investing in the following feature upgrades. The coeficients are interpreted below. \n",
    "****\n",
    "****\n",
    "****\n",
    "\n",
    "\n",
    "Each extra unit of Overall Qual, all else being equal, leads to an increase of Sale Price of 6882.710389\n",
    "****\n",
    "Each extra unit of Year Built, all else being equal, leads to an increase of Sale Price of 174.325393 dollars\n",
    "*****\n",
    "Each extra unit of Year Remod/Add, all else being equal, leads to an increase of Sale Price of 44.067666 dollars\n",
    "****\n",
    "Each extra unit of Total Bsmt SF, all else being equal, leads to an increase of Sale Price of 7.641452 dollars\n",
    "***\n",
    "Each extra unit of 1st Flr SF, all else being equal, leads to an increase of Sale Price of 11.502933 dollars\n",
    "****\n",
    "Each extra unit of Gr Liv Area, all else being equal, leads to an increase of Sale Price of 27.246149 dollars\n",
    "****\n",
    "Each extra unit of Garage Cars, all else being equal, leads to an increase of Sale Price of 8619.707201 dollars\n",
    "****\n",
    "Each extra unit of Garage Area, all else being equal, leads to an increase of Sale Price of 2.650013 dollars\n",
    "****\n",
    "Each extra unit of Exter Qual_TA, all else being equal, leads to an increase of Sale Price of -32375.395191 dollars\n",
    "****\n",
    "Each extra unit of Kitchen Qual_TA, all else being equal, leads to an increase of Sale Price of -26282.449721 dollars\n",
    "****\n",
    "****\n",
    "****\n",
    "\n",
    "Furthermore predictions of sale price by my model can be used to figure out if a home is being sold above or below market value. For example, if a home is found on the market that is listed significantly below the predicted sale sale price, this home is likely a great value purchase. Conversely, if a home is listed significantly above the predicted sale value, this home is likely above market value. In this way, the model can help individuals make smarter and more informed home purchases. Additionally, this model can help homeowners learn what is an appropriate value to list as the sale price of their home. \n",
    "\n",
    "Finally, I used my original linear model to find the following coeficients for neighboorhood and its corelation to sale price.  This list tells you which neighboorhoods have a possitive and negative correlation to sale price as predicted by my model. The interpretation of these coeficients is that, all else being equal, being in the neighborhood will raise or lower the sale price of the home by the dollar value of the associeted Coefficient. \n",
    "****\n",
    "****\n",
    "****\n",
    "****\n",
    "****\n",
    "\n",
    "Neighborhood Name\tCoefficient Value\n",
    "****\n",
    "Neighborhood_StoneBr\t |             33091.187974\n",
    "****\n",
    "Neighborhood_NridgHt\t   |           21509.021303\n",
    "****\n",
    "Neighborhood_NoRidge\t  |            17750.146644\n",
    "****\n",
    "Neighborhood_Somerst\t    |          -1132.742310\n",
    "****\n",
    "Neighborhood_NPkVill\t     |         -4191.973771\n",
    "****\n",
    "Neighborhood_Greens\t         |         -6495.283524\n",
    "****\n",
    "Neighborhood_BrDale\t         |        -7233.413614\n",
    "****\n",
    "Neighborhood_Veenker\t     |        -9033.538074\n",
    "****\n",
    "Neighborhood_Crawfor\t      |        -14190.583482\n",
    "****\n",
    "Neighborhood_Timber\t          |        -23557.201438\n",
    "****\n",
    "Neighborhood_Blueste\t       |       -23613.409059\n",
    "****\n",
    "Neighborhood_SawyerW\t       |       -23759.311360\n",
    "****\n",
    "Neighborhood_Gilbert\t       |       -23859.888164\n",
    "****\n",
    "Neighborhood_MeadowV\t       |       -24798.064956\n",
    "****\n",
    "Neighborhood_ClearCr\t        |      -25467.362571\n",
    "****\n",
    "Neighborhood_CollgCr\t         |     -25477.644798\n",
    "****\n",
    "Neighborhood_NWAmes\t              |    -26214.152334\n",
    "****\n",
    "Neighborhood_NAmes\t               |   -28086.176463\n",
    "****\n",
    "Neighborhood_BrkSide\t            |  -28643.230386\n",
    "****\n",
    "Neighborhood_Mitchel\t     |         -29079.413927\n",
    "****\n",
    "Neighborhood_Sawyer\t          |        -30149.989479\n",
    "****\n",
    "Neighborhood_IDOTRR\t           |       -33977.940798\n",
    "****\n",
    "Neighborhood_SWISU\t            |      -34907.252093\n",
    "****\n",
    "Neighborhood_OldTown\t         |     -35063.578194\n",
    "****\n",
    "Neighborhood_Edwards\t          |    -42558.069846\n",
    "****\n",
    "****\n",
    "****\n",
    "\n",
    "\n"
   ]
  },
  {
   "cell_type": "code",
   "execution_count": null,
   "metadata": {},
   "outputs": [],
   "source": []
  }
 ],
 "metadata": {
  "kernelspec": {
   "display_name": "Python 3",
   "language": "python",
   "name": "python3"
  },
  "language_info": {
   "codemirror_mode": {
    "name": "ipython",
    "version": 3
   },
   "file_extension": ".py",
   "mimetype": "text/x-python",
   "name": "python",
   "nbconvert_exporter": "python",
   "pygments_lexer": "ipython3",
   "version": "3.8.5"
  }
 },
 "nbformat": 4,
 "nbformat_minor": 4
}
